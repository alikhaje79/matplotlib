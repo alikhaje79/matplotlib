{
 "cells": [
  {
   "cell_type": "markdown",
   "id": "fd46dbfd",
   "metadata": {},
   "source": [
    "# install matplotlib with pip in cmd"
   ]
  },
  {
   "cell_type": "markdown",
   "id": "1a0e0afc",
   "metadata": {},
   "source": [
    "<h3 style=\"color:red;\"> windows</h3>"
   ]
  },
  {
   "cell_type": "markdown",
   "id": "23a3349a",
   "metadata": {},
   "source": [
    "python -m pip install --upgrade matplotlib\n",
    "\n",
    "python -m pip install --upgrade --user matplotlib"
   ]
  },
  {
   "cell_type": "markdown",
   "id": "dbfad715",
   "metadata": {},
   "source": [
    "<h3 style=\"color:red;\"> mac </h3>"
   ]
  },
  {
   "cell_type": "markdown",
   "id": "077bb80a",
   "metadata": {},
   "source": [
    "python3 -m pip install --upgrade matplotlib\n",
    "\n",
    "python3 -m pip install --upgrade --user matplotlib"
   ]
  },
  {
   "cell_type": "markdown",
   "id": "87d4de67",
   "metadata": {},
   "source": [
    "<h3 style=\"color:red;\"> linux</h3>"
   ]
  },
  {
   "cell_type": "markdown",
   "id": "542ab07d",
   "metadata": {},
   "source": [
    "python3 -m pip install --upgrade matplotlib\n",
    "\n",
    "python3 -m pip install --upgrade --user matplotlib"
   ]
  }
 ],
 "metadata": {
  "kernelspec": {
   "display_name": "Python 3 (ipykernel)",
   "language": "python",
   "name": "python3"
  },
  "language_info": {
   "codemirror_mode": {
    "name": "ipython",
    "version": 3
   },
   "file_extension": ".py",
   "mimetype": "text/x-python",
   "name": "python",
   "nbconvert_exporter": "python",
   "pygments_lexer": "ipython3",
   "version": "3.10.4"
  }
 },
 "nbformat": 4,
 "nbformat_minor": 5
}
