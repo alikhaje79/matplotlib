{
 "cells": [
  {
   "cell_type": "markdown",
   "id": "86eee614",
   "metadata": {},
   "source": [
    "<h1 style=\"color:red;\"> run in terminal</h1>"
   ]
  },
  {
   "cell_type": "markdown",
   "id": "061ed8ff",
   "metadata": {},
   "source": [
    "# import matplotlib.pyplot as plt\n",
    "# import numpy as np"
   ]
  },
  {
   "cell_type": "code",
   "execution_count": 1,
   "id": "f3a3215d",
   "metadata": {},
   "outputs": [],
   "source": [
    "import matplotlib.pyplot as plt\n",
    "import numpy as np"
   ]
  },
  {
   "cell_type": "markdown",
   "id": "8f63f208",
   "metadata": {},
   "source": [
    "#### creating dataset"
   ]
  },
  {
   "cell_type": "code",
   "execution_count": 2,
   "id": "e11c1afa",
   "metadata": {},
   "outputs": [
    {
     "data": {
      "text/plain": [
       "<Figure size 720x504 with 0 Axes>"
      ]
     },
     "metadata": {},
     "output_type": "display_data"
    }
   ],
   "source": [
    "np.random.seed(10)\n",
    "data_1 = np.random.normal(100,10,200)\n",
    "data_2 = np.random.normal(90,20,200)\n",
    "data_3 = np.random.normal(80,30,200)\n",
    "data_4 = np.random.normal(70,40,200)\n",
    "data = [data_1 , data_2 , data_3 , data_4]\n",
    "fig = plt.figure(figsize=(10,7))"
   ]
  },
  {
   "cell_type": "markdown",
   "id": "64d27bdb",
   "metadata": {},
   "source": [
    "#### creating axes instance"
   ]
  },
  {
   "cell_type": "code",
   "execution_count": 3,
   "id": "46ac75b8",
   "metadata": {},
   "outputs": [],
   "source": [
    "ax = fig.add_axes([0,0,1,1])"
   ]
  },
  {
   "cell_type": "markdown",
   "id": "299fc7d0",
   "metadata": {},
   "source": [
    "#### creating plot"
   ]
  },
  {
   "cell_type": "code",
   "execution_count": 4,
   "id": "3140d781",
   "metadata": {},
   "outputs": [],
   "source": [
    "bp = ax.boxplot(data)\n",
    "plt.show()"
   ]
  }
 ],
 "metadata": {
  "kernelspec": {
   "display_name": "Python 3 (ipykernel)",
   "language": "python",
   "name": "python3"
  },
  "language_info": {
   "codemirror_mode": {
    "name": "ipython",
    "version": 3
   },
   "file_extension": ".py",
   "mimetype": "text/x-python",
   "name": "python",
   "nbconvert_exporter": "python",
   "pygments_lexer": "ipython3",
   "version": "3.10.4"
  }
 },
 "nbformat": 4,
 "nbformat_minor": 5
}
